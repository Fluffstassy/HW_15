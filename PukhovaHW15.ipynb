{
  "nbformat": 4,
  "nbformat_minor": 0,
  "metadata": {
    "colab": {
      "provenance": [],
      "authorship_tag": "ABX9TyNUX+qd1qDuW2ibq4Vcmfne",
      "include_colab_link": true
    },
    "kernelspec": {
      "name": "python3",
      "display_name": "Python 3"
    },
    "language_info": {
      "name": "python"
    }
  },
  "cells": [
    {
      "cell_type": "markdown",
      "metadata": {
        "id": "view-in-github",
        "colab_type": "text"
      },
      "source": [
        "<a href=\"https://colab.research.google.com/github/Fluffstassy/HW_15/blob/main/PukhovaHW15.ipynb\" target=\"_parent\"><img src=\"https://colab.research.google.com/assets/colab-badge.svg\" alt=\"Open In Colab\"/></a>"
      ]
    },
    {
      "cell_type": "markdown",
      "source": [
        "# Домашняя работа к лекции «Случайные события. Случайные величины»"
      ],
      "metadata": {
        "id": "BT-3fl-0XCOE"
      }
    },
    {
      "cell_type": "markdown",
      "source": [
        "Смоделировать игру против лотерейного автомата типа “777”. Игрок платит 1 руб., после чего выпадает случайное целое число, равномерно распределенное от 0 до 999. При некоторых значениях числа игрок получает выигрыш.\n",
        "\n",
        "777: 200 руб.\n",
        "\n",
        "999: 100 руб.\n",
        "\n",
        "555: 50 руб.\n",
        "\n",
        "333: 15 руб.\n",
        "\n",
        "111: 10 руб.\n",
        "\n",
        "*77: 5 руб.\n",
        "\n",
        "**7: 3 руб.\n",
        "\n",
        "*00: 2 руб.\n",
        "\n",
        "**0: 1 руб.\n",
        "\n",
        "Вопросы:\n",
        "\n",
        "Выгодна ли игра игроку?\n",
        "Сколько в среднем приобретает или теряет игрок за одну игру?"
      ],
      "metadata": {
        "id": "u2ne9XurXIB_"
      }
    },
    {
      "cell_type": "code",
      "execution_count": 1,
      "metadata": {
        "id": "qvcfw7zKVWRc"
      },
      "outputs": [],
      "source": [
        "import numpy as np"
      ]
    },
    {
      "cell_type": "code",
      "source": [
        "trials = 1000000    # Сумма, потраченная на игру (количество попыток)\n",
        "result = 0       # Количество результатов\n",
        "results_list = []\n",
        "\n",
        "for x in range(trials):\n",
        "    random_score = np.random.randint(0, 1000)    # Случайное число от 0 до 999\n",
        "    if random_score == 777:\n",
        "        results_list.append(200)\n",
        "    elif random_score == 999:\n",
        "        results_list.append(100)\n",
        "    elif random_score == 555:\n",
        "        results_list.append(50)\n",
        "    elif random_score == 333:\n",
        "        results_list.append(15)\n",
        "    elif random_score == 111:\n",
        "        results_list.append(10)\n",
        "    elif random_score % 100 == 77:\n",
        "        results_list.append(5)\n",
        "    elif random_score % 10 == 7:\n",
        "        results_list.append(3)    \n",
        "    elif random_score % 100 == 0:\n",
        "        results_list.append(2)\n",
        "    elif random_score % 10 == 0:\n",
        "        results_list.append(1)\n",
        "    else:\n",
        "        None\n",
        "        result += 1\n",
        "\n",
        "upshot = sum(results_list) - trials\n",
        "if upshot > 0:\n",
        "    print('Игра выгодна. Выигрыш составляет:', upshot, 'руб. c', trials, 'руб.')\n",
        "else:\n",
        "    print('Игра не выгодна. Проигрыш составляет:', upshot, 'руб. c', trials, 'руб.') "
      ],
      "metadata": {
        "colab": {
          "base_uri": "https://localhost:8080/"
        },
        "id": "wr9lwaCAXNO7",
        "outputId": "6e15d177-28f4-4b34-e2cb-18e197783577"
      },
      "execution_count": 2,
      "outputs": [
        {
          "output_type": "stream",
          "name": "stdout",
          "text": [
            "Игра не выгодна. Проигрыш составляет: -197447 руб. c 1000000 руб.\n"
          ]
        }
      ]
    }
  ]
}